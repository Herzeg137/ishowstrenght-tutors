{
  "nbformat": 4,
  "nbformat_minor": 0,
  "metadata": {
    "colab": {
      "private_outputs": true,
      "provenance": [],
      "authorship_tag": "ABX9TyMEsWQRbwzFVSHzWZpSsa26",
      "include_colab_link": true
    },
    "kernelspec": {
      "name": "python3",
      "display_name": "Python 3"
    },
    "language_info": {
      "name": "python"
    }
  },
  "cells": [
    {
      "cell_type": "markdown",
      "metadata": {
        "id": "view-in-github",
        "colab_type": "text"
      },
      "source": [
        "<a href=\"https://colab.research.google.com/github/Herzeg137/ishowstrenght-tutors/blob/main/string_formting_%25.ipynb\" target=\"_parent\"><img src=\"https://colab.research.google.com/assets/colab-badge.svg\" alt=\"Open In Colab\"/></a>"
      ]
    },
    {
      "cell_type": "markdown",
      "source": [
        "# String Formating/ %\n",
        "\n",
        " **%** operatori faqatgina arifmetik operator emas uni biz string uchun ham ishlatsak bo'ladi.\n",
        "\n",
        "\n",
        "\n",
        "*   %d - integers\n",
        "\n",
        "*   %f - floating-point raqamlar uchun\n",
        "\n",
        "*   %b - 2 lik ss uchun(binary numbers)\n",
        "\n",
        "*   %o - 8 lik ss uchun(octal numbers)\n",
        "  \n",
        "*   %s - string lar uchun\n",
        "\n",
        "\n",
        "\n",
        "\n",
        "To'liqroq: https://www.geeksforgeeks.org/string-formatting-in-python/"
      ],
      "metadata": {
        "id": "on0zuCzy4h_c"
      }
    }
  ]
}