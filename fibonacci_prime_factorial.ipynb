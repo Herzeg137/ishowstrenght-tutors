{
  "nbformat": 4,
  "nbformat_minor": 0,
  "metadata": {
    "colab": {
      "private_outputs": true,
      "provenance": [],
      "authorship_tag": "ABX9TyPfS1CtyCEfpp7ghzrXBurE",
      "include_colab_link": true
    },
    "kernelspec": {
      "name": "python3",
      "display_name": "Python 3"
    },
    "language_info": {
      "name": "python"
    }
  },
  "cells": [
    {
      "cell_type": "markdown",
      "metadata": {
        "id": "view-in-github",
        "colab_type": "text"
      },
      "source": [
        "<a href=\"https://colab.research.google.com/github/Herzeg137/ishowstrenght-tutors/blob/main/fibonacci_prime_factorial.ipynb\" target=\"_parent\"><img src=\"https://colab.research.google.com/assets/colab-badge.svg\" alt=\"Open In Colab\"/></a>"
      ]
    },
    {
      "cell_type": "markdown",
      "source": [
        "# Calculate the factorial\n",
        "\n",
        "using while, for loops and def function."
      ],
      "metadata": {
        "id": "pqJ9p-SZv22V"
      }
    },
    {
      "cell_type": "code",
      "source": [
        "#calculate factorial\n",
        "#while and def\n",
        "n = int(input())\n",
        "\n",
        "def factorial(n):\n",
        "  num = 1\n",
        "  while n >= 1:\n",
        "    num *= n\n",
        "    n = n -1\n",
        "  return num\n",
        "\n",
        "print(factorial(n))"
      ],
      "metadata": {
        "id": "2IzQI5WswCyG"
      },
      "execution_count": null,
      "outputs": []
    },
    {
      "cell_type": "code",
      "source": [
        "#factorial with while\n",
        "num = 1\n",
        "n = int(input())\n",
        "\n",
        "while n >= 1:\n",
        "  num = num *n\n",
        "  n = n -1\n",
        "print(num)"
      ],
      "metadata": {
        "id": "7Sh_mGawsxDC"
      },
      "execution_count": null,
      "outputs": []
    },
    {
      "cell_type": "markdown",
      "source": [
        "# Check number odd or even"
      ],
      "metadata": {
        "id": "2ncHrKqdwK0L"
      }
    },
    {
      "cell_type": "code",
      "source": [
        "#with for and range()\n",
        "for i in range(1, 20 + 1):\n",
        "  if i % 2 == 0:\n",
        "    print(i, 'even number')\n",
        "  else:\n",
        "    print(i, 'odd number')"
      ],
      "metadata": {
        "id": "KgWomicowRe9"
      },
      "execution_count": null,
      "outputs": []
    },
    {
      "cell_type": "code",
      "source": [
        "#with while\n",
        "#print odd and ever numbers\n",
        "i = 1\n",
        "n = int(input())\n",
        "while i <= n:\n",
        "  if i % 2 == 0:\n",
        "    print(i, \"even number\")\n",
        "  else:\n",
        "    print(i, 'odd number')\n",
        "  i += 1"
      ],
      "metadata": {
        "id": "TvnxgCrEwRwX"
      },
      "execution_count": null,
      "outputs": []
    },
    {
      "cell_type": "code",
      "source": [
        "#while\n",
        "#print only odd numbers\n",
        "i = 1\n",
        "n = int(input())\n",
        "\n",
        "while i <= n:\n",
        "  \n",
        "  if i % 2 != 0:\n",
        "    pass #pass => shart to'g'ri kelib qolsa uni umuman bajarmaslik uchun.\n",
        "  else:\n",
        "    print(i, 'even numbers')\n",
        "  i += 1"
      ],
      "metadata": {
        "id": "SSTfIy5HwRzi"
      },
      "execution_count": null,
      "outputs": []
    },
    {
      "cell_type": "code",
      "source": [
        "#while\n",
        "#print only odd numbers\n",
        "i = 1\n",
        "n = int(input())\n",
        "\n",
        "while i <= n:\n",
        "  if i % 2 != 0:\n",
        "    print('odd number', i)\n",
        "\n",
        "  else:\n",
        "    pass\n",
        "  i += 1"
      ],
      "metadata": {
        "id": "ujTUSUSnwR2E"
      },
      "execution_count": null,
      "outputs": []
    },
    {
      "cell_type": "code",
      "source": [
        "#with for loop\n",
        "#print prime and odd numbers\n",
        "\n",
        "\n",
        "n = int(input())\n",
        "\n",
        "for i in range(1, n + 1):\n",
        "  if i % 2 == 0:\n",
        "    print(i, 'even number')\n",
        "  else:\n",
        "    print(i, 'odd number')"
      ],
      "metadata": {
        "id": "c7KSlzZAwR5j"
      },
      "execution_count": null,
      "outputs": []
    },
    {
      "cell_type": "code",
      "source": [
        "#for \n",
        "#print only prime numbers\n",
        "n = int(input())\n",
        "\n",
        "for i in range(1, n + 1):\n",
        "  if i % 2 != 0:\n",
        "    pass\n",
        "  else:\n",
        "    print(i, 'even numbers')"
      ],
      "metadata": {
        "id": "d7g4_Bk20RTv"
      },
      "execution_count": null,
      "outputs": []
    },
    {
      "cell_type": "code",
      "source": [
        "#for \n",
        "#print only odd numbers\n",
        "n = int(input())\n",
        "\n",
        "for i in range(1, n + 1):\n",
        "  if i % 2 == 0:\n",
        "    pass\n",
        "  else:\n",
        "    print(i, 'odd numbers')"
      ],
      "metadata": {
        "id": "mN4eBoZP0laW"
      },
      "execution_count": null,
      "outputs": []
    },
    {
      "cell_type": "markdown",
      "source": [
        "# Prime numbers\n",
        "\n",
        "Guide for check prime number or not out\n",
        "\n",
        "\n",
        "\n",
        "*   num ni user dan olish\n",
        "\n",
        "*   for loop va range() yordamida 1 dan num gacha bo'lgan sonlarni kiritish.\n",
        "*   Prime number ekanligini sharti: Agar i(for loop) 1 dan katta bo'lsa va i % n != 0 bo'lsa\n",
        "\n",
        "\n",
        "```\n",
        "# Agarda i > 1 bo'lsa va i % n != 0 bo'lsa bu son prime son boladi.\n",
        "\n",
        "\n"
      ],
      "metadata": {
        "id": "_08BK_D_0x7-"
      }
    },
    {
      "cell_type": "code",
      "source": [
        "#for loop\n",
        "num = int(input())\n",
        "\n",
        "if num > 1:\n",
        "  for i in range(2, int(num/2) + 1):\n",
        "    if num % i == 0:\n",
        "      print(num, 'is not prime')\n",
        "      break\n",
        "    else:\n",
        "      print(num, 'is prime')\n",
        "else:\n",
        "  print(num,'is not prime')\n",
        "\n",
        "#Bu code berilgan sonni prime yoki yo'qligini topadi"
      ],
      "metadata": {
        "id": "iEC03Dd-7U9i"
      },
      "execution_count": null,
      "outputs": []
    },
    {
      "cell_type": "code",
      "source": [
        "#berilgan songacha bo'lgan sonlarni topish\n",
        "num = int(input())\n",
        "\n",
        "for i in range(2, num + 1  ):\n",
        "   if i > 1:\n",
        "    for j in range(2, i):\n",
        "       if i % j == 0:\n",
        "         break\n",
        "    else:\n",
        "      print(i)"
      ],
      "metadata": {
        "id": "gdXMgpJQ797x"
      },
      "execution_count": null,
      "outputs": []
    },
    {
      "cell_type": "markdown",
      "source": [
        "# Fibonacci sequence"
      ],
      "metadata": {
        "id": "UlJyttec-fXp"
      }
    },
    {
      "cell_type": "code",
      "source": [
        "#user tomonidan qiyma qabul qilamiz\n",
        "n_terms = int(input(\"Yozing: \"))\n",
        "\n",
        "#Fibonacci sequenc ning boshidagi 3 ta soni har doim 0, 1,1 bo'ladi\n",
        "#aynan shuning uchun n_1 = 0, n_2 = 1 boladi\n",
        "#i ni nima uchun ekanligini yaxshi bilaszi\n",
        "n_1 = 0\n",
        "n_2 = 1\n",
        "i = 0\n",
        "\n",
        "#shartlarni qo'yish\n",
        "if n_terms <= 0:\n",
        "  print(\"Frick you\")\n",
        "elif n_terms == 1:\n",
        "  print(n_1)\n",
        "\n",
        "else:\n",
        "  while i < n_terms:\n",
        "    print(n_1)\n",
        "    nth = n_1 + n_2\n",
        "\n",
        "    n_1 = n_2\n",
        "    n_2 = nth\n",
        "    i += 1"
      ],
      "metadata": {
        "id": "CgGnovT1-uSq"
      },
      "execution_count": null,
      "outputs": []
    }
  ]
}