{
  "nbformat": 4,
  "nbformat_minor": 0,
  "metadata": {
    "colab": {
      "private_outputs": true,
      "provenance": [],
      "authorship_tag": "ABX9TyORj3dVLItBlCDJsegzecvJ",
      "include_colab_link": true
    },
    "kernelspec": {
      "name": "python3",
      "display_name": "Python 3"
    },
    "language_info": {
      "name": "python"
    }
  },
  "cells": [
    {
      "cell_type": "markdown",
      "metadata": {
        "id": "view-in-github",
        "colab_type": "text"
      },
      "source": [
        "<a href=\"https://colab.research.google.com/github/Herzeg137/ishowstrenght-tutors/blob/main/join()_method.ipynb\" target=\"_parent\"><img src=\"https://colab.research.google.com/assets/colab-badge.svg\" alt=\"Open In Colab\"/></a>"
      ]
    },
    {
      "cell_type": "markdown",
      "source": [
        "# join()\n",
        "\n",
        "**Syntax: **\n",
        "\n",
        "    string_name.join(iterable) \n",
        "\n",
        "**iterable** ga Tuple, String, List, Dictionary, Set qiymatlarni kiritish mumkin."
      ],
      "metadata": {
        "id": "UkNbKoJ4K2NR"
      }
    },
    {
      "cell_type": "code",
      "source": [
        "#list elementlariga join orqali kirish\n",
        "list1 = ['g', 'e', 'e', 'k', 's']\n",
        "print(\" \".join(list1))\n",
        "\n",
        "#Note: Ko'rib turganimzidek string_name ning ichida hech narsa yo'q\n",
        "#Agarda qo'shtirnoq ichida 1 probel qoldirsak elementlar orasi kengayadi."
      ],
      "metadata": {
        "id": "dnrPrbgsLV4L"
      },
      "execution_count": null,
      "outputs": []
    },
    {
      "cell_type": "code",
      "source": [
        "#join() with string\n",
        "list1 = \" geeks \"\n",
        "print(\"$\".join(list1))\n",
        "\n",
        "#Note: biz hozir list ga emas, string ga kirdik.\n",
        "#Bu degani string_name faqatgina string da ishlatiladi degani emas\n",
        "#Biz uni qolganlarida ham ishlatsak bo'ladi."
      ],
      "metadata": {
        "id": "XpCjOYLdLsVN"
      },
      "execution_count": null,
      "outputs": []
    },
    {
      "cell_type": "code",
      "source": [
        "#Using join() for tuple\n",
        "\n",
        "#Biz join ni sep kabi ishlatsak bo'ladi. Masalan:\n",
        "tuple1 = ('1', '2', '3', '4')\n",
        " \n",
        "# put any characher to join\n",
        "s = \"-\"\n",
        " \n",
        "# joins elements of list1 by '-'\n",
        "# and stores in string s\n",
        "s = s.join(tuple1)\n",
        " \n",
        "# join use to join a list of\n",
        "# strings to a separator s\n",
        "print(s)\n",
        "\n",
        "#Menimcha: sep ni tuple ga ishlatib bo'lmaydi"
      ],
      "metadata": {
        "id": "QqCEtFsRLsYF"
      },
      "execution_count": null,
      "outputs": []
    },
    {
      "cell_type": "code",
      "source": [
        "#Using join() for set\n",
        "list1 = {'1', '2', '3', '4', '4'}\n",
        " \n",
        "# put any characher to join\n",
        "s = \"-#-\"\n",
        " \n",
        "# joins elements of list1 by '-#-'\n",
        "# and stores in string s\n",
        "s = s.join(list1)\n",
        " \n",
        "# join use to join a list of\n",
        "# strings to a separator s\n",
        "print(s)"
      ],
      "metadata": {
        "id": "WzhsRdgJNuaw"
      },
      "execution_count": null,
      "outputs": []
    },
    {
      "cell_type": "code",
      "source": [
        "#Using join() for dictionary\n",
        "dic = {'Geek': 1, 'For': 2, 'Geeks': 3}\n",
        " \n",
        "# Joining special character with dictionary\n",
        "string = '_'.join(dic)\n",
        " \n",
        "print(string)"
      ],
      "metadata": {
        "id": "k71k3FZfN4f6"
      },
      "execution_count": null,
      "outputs": []
    }
  ]
}