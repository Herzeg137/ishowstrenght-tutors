{
  "nbformat": 4,
  "nbformat_minor": 0,
  "metadata": {
    "colab": {
      "private_outputs": true,
      "provenance": [],
      "authorship_tag": "ABX9TyPc614NjUuQLJKvW16TBJdy",
      "include_colab_link": true
    },
    "kernelspec": {
      "name": "python3",
      "display_name": "Python 3"
    },
    "language_info": {
      "name": "python"
    }
  },
  "cells": [
    {
      "cell_type": "markdown",
      "metadata": {
        "id": "view-in-github",
        "colab_type": "text"
      },
      "source": [
        "<a href=\"https://colab.research.google.com/github/Herzeg137/ishowstrenght-tutors/blob/main/split()_func.ipynb\" target=\"_parent\"><img src=\"https://colab.research.google.com/assets/colab-badge.svg\" alt=\"Open In Colab\"/></a>"
      ]
    },
    {
      "cell_type": "code",
      "execution_count": null,
      "metadata": {
        "id": "LdawNvupHwGN"
      },
      "outputs": [],
      "source": [
        "#example for split()\n",
        "string = \"one,two,three\"\n",
        "words = string.split(',')\n",
        "print(words)"
      ]
    },
    {
      "cell_type": "code",
      "source": [
        "#What if we delete the , in split\n",
        "string = \"one,two,three\"\n",
        "words = string.split()\n",
        "print(words)"
      ],
      "metadata": {
        "id": "R7UUmsn7IKy3"
      },
      "execution_count": null,
      "outputs": []
    },
    {
      "cell_type": "code",
      "source": [
        "#Understanding with examples\n",
        "\n",
        "text = 'it is not text'\n",
        "\n",
        "# Splits at space\n",
        "print(text.split())\n",
        "\n",
        "word = 'it, is, not, text'\n",
        "\n",
        "# Splits at ','\n",
        "print(word.split(','))\n",
        "\n",
        "word = 'it:is:not:text'\n",
        "\n",
        "# Splitting at ':'\n",
        "print(word.split(':'))\n",
        "\n",
        "word = 'It isn\\'t text'\n",
        "\n",
        "# Agar t yozsak uni hisoblamagan holda, ajratadi\n",
        "print(word.split('t'))\n",
        "\n"
      ],
      "metadata": {
        "id": "XZgl5z31IK5w"
      },
      "execution_count": null,
      "outputs": []
    },
    {
      "cell_type": "markdown",
      "source": [
        "Ko'rib turganimizdek split funksiyasi, elementlarni  kerakli shart bo'yicha ajratadi."
      ],
      "metadata": {
        "id": "B6QrgfpNI3Ja"
      }
    },
    {
      "cell_type": "code",
      "source": [
        "#exercise 1\n",
        "#Split the string based on space character: \" \".\n",
        "str=\"Hello World!\"\n",
        "lst= str.split(\" \")\n",
        " \n",
        "print(lst)"
      ],
      "metadata": {
        "id": "TLH4x9zGJnR6"
      },
      "execution_count": null,
      "outputs": []
    },
    {
      "cell_type": "code",
      "source": [
        "#exercise 2\n",
        "#Split the numbers.\n",
        "\n",
        "str=\"101:102:103:201:202\"\n",
        "lst= str.split(':')\n",
        "\n",
        "print(lst)"
      ],
      "metadata": {
        "id": "kmyWqnLRJzuQ"
      },
      "execution_count": null,
      "outputs": []
    },
    {
      "cell_type": "code",
      "source": [
        "#exercise 3\n",
        "#Using the split method, split the string with semi colon (;) first. Then, print only the last element.\n",
        "\n",
        "str = \"Arsenal:0-Chelsea:1;Barcelona:2-Bayern Munich:2\"\n",
        "\n",
        "lst = str.split(';')\n",
        "ans_1 = lst[-1]\n",
        "\n",
        "print(lst)\n",
        "print(ans_1)"
      ],
      "metadata": {
        "id": "10RLdZfBJ_Ln"
      },
      "execution_count": null,
      "outputs": []
    }
  ]
}