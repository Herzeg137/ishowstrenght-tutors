{
  "nbformat": 4,
  "nbformat_minor": 0,
  "metadata": {
    "colab": {
      "private_outputs": true,
      "provenance": [],
      "collapsed_sections": [],
      "authorship_tag": "ABX9TyM6Quw0UYFSAsi3YxbXRWL3",
      "include_colab_link": true
    },
    "kernelspec": {
      "name": "python3",
      "display_name": "Python 3"
    },
    "language_info": {
      "name": "python"
    }
  },
  "cells": [
    {
      "cell_type": "markdown",
      "metadata": {
        "id": "view-in-github",
        "colab_type": "text"
      },
      "source": [
        "<a href=\"https://colab.research.google.com/github/Herzeg137/ishowstrenght-tutors/blob/main/number_system_python.ipynb\" target=\"_parent\"><img src=\"https://colab.research.google.com/assets/colab-badge.svg\" alt=\"Open In Colab\"/></a>"
      ]
    },
    {
      "cell_type": "markdown",
      "source": [
        "## **Sanoq sistemasi/ Number System**\n",
        "\n",
        "**Sanoq sistemasi:**\n",
        "\n",
        "\n",
        "*   binary number: 2\n",
        "*   octal number: 8\n",
        "\n",
        "*   decimal number: 10\n",
        "*   hexadecimal number: 16\n",
        "\n",
        "**Note:**\n",
        "\n",
        " 2 lik sanoq sistemasi 0 va 1 dan iborat.\n",
        "\n",
        "8 lik sanoq sistemasi 8 raqami qatnashmagan sonlar to'plami.(M: 1..7 9 10...17 19)\n",
        "\n",
        "10 lik sanoq sistemasi sanoqda ishlatiladigan sonlar.\n",
        "\n",
        "16 lik sanoq sistemasi 0-9, A(10)-F(15) dan tashkil topgan.(M:0...9 A B C D F)\n",
        "\n",
        "\n",
        "\n",
        "\n"
      ],
      "metadata": {
        "id": "JMXaAUBTtoBa"
      }
    },
    {
      "cell_type": "markdown",
      "source": [
        "# binary number system\n",
        "\n",
        "Dastur yaroqliligi uchun shartlar:\n",
        "\n",
        "\n",
        "*   2 likdan 10 likga o'tqizayotgan paytda berilgan qiymat str formatida bo'lishi kerak, chunki 10 lik ga o'tqizish uchun ishlatilayotgan int() funktsiyasi string qiymatni oladi\n",
        "\n",
        "\n",
        "*   10 likdan tashqari boshqa ss(sanoq sistemasi)ga o'tqizayotgan paytda qiymatning oldida **0b ** bo'lishi shart. Va qiymatga qo'shtirnoq qo'yish shartmas.\n",
        "\n",
        "*   2 likdan qaysidir ss ga o'tqizayotgan paytda kerakli funksiyalar ishlatiladi:\n",
        "\n",
        "       * 8 lik uchun  oct()\n",
        "       * 10 lik uchun int()\n",
        "       * 16 lik uchun hex()\n",
        "\n"
      ],
      "metadata": {
        "id": "mYho5fE0x6cE"
      }
    },
    {
      "cell_type": "code",
      "source": [
        "#Binary to Dec\n",
        "b = '1001'\n",
        "print('output', b, ':', int(b, 2) )\n",
        "\n",
        "#int() 10 lik sanoq sistemasiga o'tqizish uchun ishlatiladi\n",
        "#int ishlatilganda har doim, berilgan son string ko'rinishida bolishi shart\n",
        "#String bolishi shart"
      ],
      "metadata": {
        "id": "Z1221utYtNHP"
      },
      "execution_count": null,
      "outputs": []
    },
    {
      "cell_type": "code",
      "source": [
        "#Binary to Octal\n",
        "a = 0b1001\n",
        "print('Output', a, ':', oct(a))\n",
        "\n",
        "#0b faqatgina Octal ga o'tqizishda emas, boshqa sanoq sistemasiga\n",
        "#o'tqizish uchun ham ishlatiladi.\n",
        "\n",
        "#oct() - octal ga otqizish uchun ishlatiladi"
      ],
      "metadata": {
        "id": "lW1vu5-btNJk"
      },
      "execution_count": null,
      "outputs": []
    },
    {
      "cell_type": "code",
      "source": [
        "#Binary to hexadecimal\n",
        "a = 0b100101\n",
        "print('output', a, ':', hex(a))\n",
        "\n",
        "#hex() - hexadecimal ga otqizish uchun ishlatiladi"
      ],
      "metadata": {
        "id": "bU2aFrvKtNOe"
      },
      "execution_count": null,
      "outputs": []
    },
    {
      "cell_type": "markdown",
      "source": [
        "# Octal number system\n",
        "\n",
        "8 lik ss ham huddi 2 likdaqa ishlaydi, faqatgina 8 likdan 2 likga o'tqizayotgan paytda bin() ishlatiladi va qiymatning oldiga 0b emas 0o qo'yiladi"
      ],
      "metadata": {
        "id": "Bv74oW-yzOIj"
      }
    },
    {
      "cell_type": "code",
      "source": [
        "O = 0o123\n",
        "print(\"Octal to Binary\",O,\":\",bin(O))"
      ],
      "metadata": {
        "id": "DOhiTl3ttNQ1"
      },
      "execution_count": null,
      "outputs": []
    },
    {
      "cell_type": "code",
      "source": [
        "O = 0o123\n",
        "print(\"Octal to Binary\",O,\":\",hex(O))"
      ],
      "metadata": {
        "id": "vc0mJZa71s5l"
      },
      "execution_count": null,
      "outputs": []
    },
    {
      "cell_type": "markdown",
      "source": [
        "# Diference between number systems"
      ],
      "metadata": {
        "id": "22Zwfiq8zt21"
      }
    },
    {
      "cell_type": "code",
      "source": [
        "#Binary to dec\n",
        "a = '1010'\n",
        "print(\"Binary to dec\", a ,\":\", int(a, 2))"
      ],
      "metadata": {
        "id": "JY8zJBrPtNTD"
      },
      "execution_count": null,
      "outputs": []
    },
    {
      "cell_type": "code",
      "source": [
        "#Binary to octal\n",
        "a = 0b1010\n",
        "print(\"binary to octal\", a ,\":\", oct(a))"
      ],
      "metadata": {
        "id": "iBvePumCxzRp"
      },
      "execution_count": null,
      "outputs": []
    },
    {
      "cell_type": "code",
      "source": [
        "#Octal to Binary\n",
        "a = 0o342\n",
        "print(\"Octal to Binary\", a ,\":\", bin(a))"
      ],
      "metadata": {
        "id": "9ENubtsjxzUV"
      },
      "execution_count": null,
      "outputs": []
    },
    {
      "cell_type": "code",
      "source": [
        "#Octal to dec\n",
        "a = '342'\n",
        "print(\"Octal to dec\", a , ':', int(a, 8))"
      ],
      "metadata": {
        "id": "ECdZnFGjxzWt"
      },
      "execution_count": null,
      "outputs": []
    },
    {
      "cell_type": "code",
      "source": [
        "#Dec to binary\n",
        "a = 10\n",
        "print(\"dec to binary\", a, ':', bin(a))"
      ],
      "metadata": {
        "id": "MfQTL47-xzZV"
      },
      "execution_count": null,
      "outputs": []
    },
    {
      "cell_type": "code",
      "source": [
        "#Dec to Octal\n",
        "a = 10\n",
        "print(\"dec to octal\", a , ':', oct(a))"
      ],
      "metadata": {
        "id": "N9bLgemFxzb5"
      },
      "execution_count": null,
      "outputs": []
    },
    {
      "cell_type": "code",
      "source": [
        "#hex to binary\n",
        "a = 0xFACE\n",
        "print(\"Hexadecimal to Binary\", a, \":\", bin(a))"
      ],
      "metadata": {
        "id": "nK16vTikxzhk"
      },
      "execution_count": null,
      "outputs": []
    },
    {
      "cell_type": "code",
      "source": [
        "#hex to dec\n",
        "b = 0x94AB\n",
        "print(\"Hexadecimal to Decimal\",b,\":\",int (\"0x94AB\",16))"
      ],
      "metadata": {
        "id": "zvb5-pIc1fld"
      },
      "execution_count": null,
      "outputs": []
    }
  ]
}