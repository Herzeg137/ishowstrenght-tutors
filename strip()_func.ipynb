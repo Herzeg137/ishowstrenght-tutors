{
  "nbformat": 4,
  "nbformat_minor": 0,
  "metadata": {
    "colab": {
      "private_outputs": true,
      "provenance": [],
      "authorship_tag": "ABX9TyO9T3rrgSP6sH9TmuXYm1+L",
      "include_colab_link": true
    },
    "kernelspec": {
      "name": "python3",
      "display_name": "Python 3"
    },
    "language_info": {
      "name": "python"
    }
  },
  "cells": [
    {
      "cell_type": "markdown",
      "metadata": {
        "id": "view-in-github",
        "colab_type": "text"
      },
      "source": [
        "<a href=\"https://colab.research.google.com/github/Herzeg137/ishowstrenght-tutors/blob/main/strip()_func.ipynb\" target=\"_parent\"><img src=\"https://colab.research.google.com/assets/colab-badge.svg\" alt=\"Open In Colab\"/></a>"
      ]
    },
    {
      "cell_type": "markdown",
      "source": [
        "# strip() funksiyasi\n",
        "\n",
        "Bu funksiya ko'proq o'chirish maqsadida ishlatiladi.\n",
        "\n",
        "\n",
        "**Syntax:**\n",
        "\n",
        "    string.strip([chars])\n",
        "\n",
        "\n",
        "\n",
        "\n",
        "Funksiyani to'liq chunish uchun misollardan foydalanamiz."
      ],
      "metadata": {
        "id": "GgkXDP7UkpNQ"
      }
    },
    {
      "cell_type": "code",
      "source": [
        "#Example1, 1 episode\n",
        "string = '''  Herzeg   '''\n",
        "\n",
        "print(string.strip())\n",
        "#output: Herzeg\n",
        "\n",
        "#Explain: strip() ga hech qanday qiymat berilmasa u, string ning bo'sh joylari(whitespaces)ni o'chirib tashlaydi."
      ],
      "metadata": {
        "id": "HV8dWP1JFxFH"
      },
      "execution_count": null,
      "outputs": []
    },
    {
      "cell_type": "code",
      "source": [
        "#2 episode\n",
        "string = ''' Herzeg   '''\n",
        "\n",
        "print(string.strip(' g'))\n",
        "#output: Herze\n",
        "\n",
        "#Ex:Agarda strip ga qiymat sifatida string da mavjud bo'lgan harf berilsa\n",
        "#Ana o'sha harfni string dan o'chirib tashlaydi. Lekin\n",
        "#Agar String da whitespace bo'lsa berilgan harf ni o'chirmaydi.\n",
        "#whitespace ni ham bir daniga o'chirish shart\n",
        "#Buning uchun harfning oldiga 1 dona probel qo'yish kerak. M: ' g'"
      ],
      "metadata": {
        "id": "k2QH8NENFxG1"
      },
      "execution_count": null,
      "outputs": []
    },
    {
      "cell_type": "code",
      "source": [
        "#3 episode\n",
        "#Agar string da whitespace bo'lmasa probel qo'yish shartmas\n",
        "\n",
        "string = 'Herzeg'\n",
        "\n",
        "print(string.strip('g'))\n",
        "#output: Herze"
      ],
      "metadata": {
        "id": "_ncOmFOdFxIC"
      },
      "execution_count": null,
      "outputs": []
    },
    {
      "cell_type": "code",
      "source": [
        "#Example2, episode 1\n",
        "string = \"Herzeg\"\n",
        "\n",
        "print(string.strip('herzeg'))\n",
        "#output: H\n",
        "\n",
        "#Ex: Agar qaysidir harf to'g'ri kelmasa uni tashlab ketadi. qolganlarini esa chiqaradi."
      ],
      "metadata": {
        "id": "LvP10GvAmZKC"
      },
      "execution_count": null,
      "outputs": []
    },
    {
      "cell_type": "code",
      "source": [
        "#episode 2\n",
        "string = \"Herzeg\"\n",
        "\n",
        "print(string.strip('Herzeg'))\n",
        "#output: "
      ],
      "metadata": {
        "id": "L3y-WukAmkYj"
      },
      "execution_count": null,
      "outputs": []
    },
    {
      "cell_type": "code",
      "source": [
        "#episode 3\n",
        "string = 'Herzeg'\n",
        "\n",
        "str1 = 'egzher'\n",
        "\n",
        "print(string.strip(str1))\n",
        "#output: H\n",
        "\n",
        "#Ex: O'chirish kerak bo'lgan so'zni tartib bilan yozish shartmas\n",
        "#Shunchaki, unda qatnashgan harflarini yozib qo'yish ham yetadi. Lekin\n",
        "#Bu yerda ham katta harf va kichik harflar ahamiyatga ega."
      ],
      "metadata": {
        "id": "lOqyszfMm07Q"
      },
      "execution_count": null,
      "outputs": []
    },
    {
      "cell_type": "code",
      "source": [
        "#episode 4\n",
        "string = 'herzeg'\n",
        "\n",
        "str1 = 'egzher'\n",
        "\n",
        "print(string.strip(str1))\n",
        "#output: "
      ],
      "metadata": {
        "id": "1W9jkHhFnvpy"
      },
      "execution_count": null,
      "outputs": []
    }
  ]
}