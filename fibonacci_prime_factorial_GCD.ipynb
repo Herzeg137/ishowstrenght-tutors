{
  "nbformat": 4,
  "nbformat_minor": 0,
  "metadata": {
    "colab": {
      "private_outputs": true,
      "provenance": [],
      "authorship_tag": "ABX9TyOlIVzGXVgWsTgDXhrmQAxe",
      "include_colab_link": true
    },
    "kernelspec": {
      "name": "python3",
      "display_name": "Python 3"
    },
    "language_info": {
      "name": "python"
    }
  },
  "cells": [
    {
      "cell_type": "markdown",
      "metadata": {
        "id": "view-in-github",
        "colab_type": "text"
      },
      "source": [
        "<a href=\"https://colab.research.google.com/github/Herzeg137/ishowstrenght-tutors/blob/main/fibonacci_prime_factorial_GCD.ipynb\" target=\"_parent\"><img src=\"https://colab.research.google.com/assets/colab-badge.svg\" alt=\"Open In Colab\"/></a>"
      ]
    },
    {
      "cell_type": "markdown",
      "source": [
        "# Calculate the factorial\n",
        "\n",
        "using while, for loops and def function."
      ],
      "metadata": {
        "id": "pqJ9p-SZv22V"
      }
    },
    {
      "cell_type": "code",
      "source": [
        "#calculate factorial\n",
        "#while and def\n",
        "n = int(input())\n",
        "\n",
        "def factorial(n):\n",
        "  num = 1\n",
        "  while n >= 1:\n",
        "    num *= n\n",
        "    n = n -1\n",
        "  return num\n",
        "\n",
        "print(factorial(n))"
      ],
      "metadata": {
        "id": "2IzQI5WswCyG"
      },
      "execution_count": null,
      "outputs": []
    },
    {
      "cell_type": "code",
      "source": [
        "#factorial with while\n",
        "num = 1\n",
        "n = int(input())\n",
        "\n",
        "while n >= 1:\n",
        "  num = num *n\n",
        "  n = n -1\n",
        "print(num)"
      ],
      "metadata": {
        "id": "7Sh_mGawsxDC"
      },
      "execution_count": null,
      "outputs": []
    },
    {
      "cell_type": "markdown",
      "source": [
        "# Check number odd or even"
      ],
      "metadata": {
        "id": "2ncHrKqdwK0L"
      }
    },
    {
      "cell_type": "code",
      "source": [
        "#with for and range()\n",
        "for i in range(1, 20 + 1):\n",
        "  if i % 2 == 0:\n",
        "    print(i, 'even number')\n",
        "  else:\n",
        "    print(i, 'odd number')"
      ],
      "metadata": {
        "id": "KgWomicowRe9"
      },
      "execution_count": null,
      "outputs": []
    },
    {
      "cell_type": "code",
      "source": [
        "#with while\n",
        "#print odd and ever numbers\n",
        "i = 1\n",
        "n = int(input())\n",
        "while i <= n:\n",
        "  if i % 2 == 0:\n",
        "    print(i, \"even number\")\n",
        "  else:\n",
        "    print(i, 'odd number')\n",
        "  i += 1"
      ],
      "metadata": {
        "id": "TvnxgCrEwRwX"
      },
      "execution_count": null,
      "outputs": []
    },
    {
      "cell_type": "code",
      "source": [
        "#while\n",
        "#print only odd numbers\n",
        "i = 1\n",
        "n = int(input())\n",
        "\n",
        "while i <= n:\n",
        "  \n",
        "  if i % 2 != 0:\n",
        "    pass #pass => shart to'g'ri kelib qolsa uni umuman bajarmaslik uchun.\n",
        "  else:\n",
        "    print(i, 'even numbers')\n",
        "  i += 1"
      ],
      "metadata": {
        "id": "SSTfIy5HwRzi"
      },
      "execution_count": null,
      "outputs": []
    },
    {
      "cell_type": "code",
      "source": [
        "#while\n",
        "#print only odd numbers\n",
        "i = 1\n",
        "n = int(input())\n",
        "\n",
        "while i <= n:\n",
        "  if i % 2 != 0:\n",
        "    print('odd number', i)\n",
        "\n",
        "  else:\n",
        "    pass\n",
        "  i += 1"
      ],
      "metadata": {
        "id": "ujTUSUSnwR2E"
      },
      "execution_count": null,
      "outputs": []
    },
    {
      "cell_type": "code",
      "source": [
        "#with for loop\n",
        "#print prime and odd numbers\n",
        "\n",
        "\n",
        "n = int(input())\n",
        "\n",
        "for i in range(1, n + 1):\n",
        "  if i % 2 == 0:\n",
        "    print(i, 'even number')\n",
        "  else:\n",
        "    print(i, 'odd number')"
      ],
      "metadata": {
        "id": "c7KSlzZAwR5j"
      },
      "execution_count": null,
      "outputs": []
    },
    {
      "cell_type": "code",
      "source": [
        "#for \n",
        "#print only prime numbers\n",
        "n = int(input())\n",
        "\n",
        "for i in range(1, n + 1):\n",
        "  if i % 2 != 0:\n",
        "    pass\n",
        "  else:\n",
        "    print(i, 'even numbers')"
      ],
      "metadata": {
        "id": "d7g4_Bk20RTv"
      },
      "execution_count": null,
      "outputs": []
    },
    {
      "cell_type": "code",
      "source": [
        "#for \n",
        "#print only odd numbers\n",
        "n = int(input())\n",
        "\n",
        "for i in range(1, n + 1):\n",
        "  if i % 2 == 0:\n",
        "    pass\n",
        "  else:\n",
        "    print(i, 'odd numbers')"
      ],
      "metadata": {
        "id": "mN4eBoZP0laW"
      },
      "execution_count": null,
      "outputs": []
    },
    {
      "cell_type": "markdown",
      "source": [
        "# Prime numbers\n",
        "\n",
        "Guide for check prime number or not out\n",
        "\n",
        "\n",
        "\n",
        "*   num ni user dan olish\n",
        "\n",
        "*   for loop va range() yordamida 1 dan num gacha bo'lgan sonlarni kiritish.\n",
        "*   Prime number ekanligini sharti: Agar i(for loop) 1 dan katta bo'lsa va i % n != 0 bo'lsa\n",
        "\n",
        "\n",
        "```\n",
        "# Agarda i > 1 bo'lsa va i % n != 0 bo'lsa bu son prime son boladi.\n",
        "\n",
        "\n"
      ],
      "metadata": {
        "id": "_08BK_D_0x7-"
      }
    },
    {
      "cell_type": "code",
      "source": [
        "#for loop\n",
        "num = int(input())\n",
        "\n",
        "if num > 1:\n",
        "  for i in range(2, int(num/2) + 1):\n",
        "    if num % i == 0:\n",
        "      print(num, 'is not prime')\n",
        "      break\n",
        "    else:\n",
        "      print(num, 'is prime')\n",
        "else:\n",
        "  print(num,'is not prime')\n",
        "\n",
        "#Bu code berilgan sonni prime yoki yo'qligini topadi"
      ],
      "metadata": {
        "id": "iEC03Dd-7U9i"
      },
      "execution_count": null,
      "outputs": []
    },
    {
      "cell_type": "code",
      "source": [
        "#berilgan songacha bo'lgan sonlarni topish\n",
        "num = int(input())\n",
        "\n",
        "for i in range(2, num + 1  ):\n",
        "   if i > 1:\n",
        "    for j in range(2, i):\n",
        "       if i % j == 0:\n",
        "         break\n",
        "    else:\n",
        "      print(i)"
      ],
      "metadata": {
        "id": "gdXMgpJQ797x"
      },
      "execution_count": null,
      "outputs": []
    },
    {
      "cell_type": "markdown",
      "source": [
        "# Fibonacci sequence"
      ],
      "metadata": {
        "id": "UlJyttec-fXp"
      }
    },
    {
      "cell_type": "code",
      "source": [
        "#user tomonidan qiyma qabul qilamiz\n",
        "n_terms = int(input(\"Yozing: \"))\n",
        "\n",
        "#Fibonacci sequenc ning boshidagi 3 ta soni har doim 0, 1,1 bo'ladi\n",
        "#aynan shuning uchun n_1 = 0, n_2 = 1 boladi\n",
        "#i ni nima uchun ekanligini yaxshi bilaszi\n",
        "n_1 = 0\n",
        "n_2 = 1\n",
        "i = 0\n",
        "\n",
        "#shartlarni qo'yish\n",
        "if n_terms <= 0:\n",
        "  print(\"Frick you\")\n",
        "elif n_terms == 1:\n",
        "  print(n_1)\n",
        "\n",
        "else:\n",
        "  while i < n_terms:\n",
        "    print(n_1)\n",
        "    nth = n_1 + n_2\n",
        "\n",
        "    n_1 = n_2\n",
        "    n_2 = nth\n",
        "    i += 1"
      ],
      "metadata": {
        "id": "CgGnovT1-uSq"
      },
      "execution_count": null,
      "outputs": []
    },
    {
      "cell_type": "markdown",
      "source": [
        "# Evklid algoritmi.\n",
        "\n",
        "* Matematika to'garagiga borganlar yoki maktabda boshlang'ich sinfda yaxshi o'qiganlar EKUB, EKUK lar haqida bilsa kerak.\n",
        "\n",
        "\n",
        "* Evklid algaritmi EKUB ni hisoblash uchun ishlatiladi.\n",
        "\n",
        "\n",
        "\n",
        "**NOTE:**   EKUB => Eng katta umumiy bo'luvchi.\n",
        "\n",
        "\n",
        "![image.png](data:image/png;base64,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)\n",
        "\n",
        "\n",
        "### EKUb ingliz tilida GCD(greatest common divisor) deb nomlanadi."
      ],
      "metadata": {
        "id": "A6P4iTaskXrW"
      }
    },
    {
      "cell_type": "code",
      "source": [
        "#GCD ni bo'lish algaritmi orqali topish\n",
        "a = 50\n",
        "b = 130\n",
        " \n",
        "while a != 0 and b != 0:\n",
        "    if a > b:\n",
        "        a = a % b\n",
        "    else:\n",
        "        b = b % a\n",
        " \n",
        "print(a + b)"
      ],
      "metadata": {
        "id": "vZBLyTeulS09"
      },
      "execution_count": null,
      "outputs": []
    },
    {
      "cell_type": "code",
      "source": [
        "#GCD ni ayirish algaritmi orqali topish.\n",
        "a = 50\n",
        "b = 130\n",
        " \n",
        "while a != b:\n",
        "    if a > b:\n",
        "        a = a - b\n",
        "    else:\n",
        "        b = b - a\n",
        " \n",
        "print(a)"
      ],
      "metadata": {
        "id": "Jv2s2hBblS3_"
      },
      "execution_count": null,
      "outputs": []
    },
    {
      "cell_type": "code",
      "source": [
        "#GCD ni funk siyaga kirg'izish\n",
        "def gcd(a, b):\n",
        "    while a != b:\n",
        "        if a > b:\n",
        "            a = a - b\n",
        "        else:\n",
        "            b = b - a        \n",
        "    print(a)"
      ],
      "metadata": {
        "id": "n50vW33FlS6l"
      },
      "execution_count": null,
      "outputs": []
    },
    {
      "cell_type": "code",
      "source": [
        "#GCD ni math moduli orqali topish\n",
        "import math\n",
        "math.gcd(30, 18)"
      ],
      "metadata": {
        "id": "-_vJd14dl7zW"
      },
      "execution_count": null,
      "outputs": []
    },
    {
      "cell_type": "code",
      "source": [
        "#NOTE:  section dagi rasmda GCD ni bo'lish orqali topish algoritmi keltirilgan."
      ],
      "metadata": {
        "id": "eYguDCkJsU6Z"
      },
      "execution_count": null,
      "outputs": []
    }
  ]
}