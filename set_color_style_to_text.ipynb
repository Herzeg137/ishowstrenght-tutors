{
  "nbformat": 4,
  "nbformat_minor": 0,
  "metadata": {
    "colab": {
      "private_outputs": true,
      "provenance": [],
      "authorship_tag": "ABX9TyOL2akxYlvXSEmeSFSo6GH5",
      "include_colab_link": true
    },
    "kernelspec": {
      "name": "python3",
      "display_name": "Python 3"
    },
    "language_info": {
      "name": "python"
    }
  },
  "cells": [
    {
      "cell_type": "markdown",
      "metadata": {
        "id": "view-in-github",
        "colab_type": "text"
      },
      "source": [
        "<a href=\"https://colab.research.google.com/github/Herzeg137/ishowstrenght-tutors/blob/main/set_color_style_to_text.ipynb\" target=\"_parent\"><img src=\"https://colab.research.google.com/assets/colab-badge.svg\" alt=\"Open In Colab\"/></a>"
      ]
    },
    {
      "cell_type": "markdown",
      "source": [
        "## 1 method => simple_color package\n",
        "\n",
        "\n",
        "*   Eng oson usullardan biri.\n",
        "\n",
        "\n",
        "*   Modul orqali ranglarni ham kiritishimiz mumkin. M:\n",
        "\n",
        "  1.   black\n",
        "\n",
        "  2.   red\n",
        "\n",
        "  3.   green\n",
        "\n",
        "  4.   yellow\n",
        "  5.   blue\n",
        "\n",
        "  6.   magenta\n",
        "\n",
        "  7.   cyan\n",
        "\n",
        "\n",
        "\n",
        "*   Modulda mavjud style lar:\n",
        "  \n",
        "\n",
        "  1.   bold\n",
        "\n",
        "   2.   bright\n",
        "\n",
        "   3.   dim\n",
        "\n",
        "   4.   italic\n",
        "   5.   underlined\n",
        "   6.   blink\n",
        "   7.   reverse\n",
        "\n",
        "\n",
        "\n",
        "\n",
        "\n",
        "\n",
        "\n",
        "\n",
        "\n",
        "\n",
        "\n",
        "\n",
        "*Bu modul Google colab da mavjud emas. Yuklab olish:*\n",
        "\n",
        "    !pip install simple-colors\n",
        "\n",
        "yoki:\n",
        "\n",
        "    python -m pip install simple-colors\n",
        "\n",
        "\n",
        "\n",
        "\n",
        "\n",
        "NOTE: Agar google colab da text ni bold qilmoqchi bo'lsangiz. text ni bold qilmang foydasi yo'q. Sababi, chiqadigan javob bold ko'rinishda. Agar text ni farqlab turmoqchi bo'lsak textni ma'lum qismini light ya'ni ingichka ko'rinishga keltirish kerak.\n",
        "\n",
        "\n"
      ],
      "metadata": {
        "id": "JJOFiyh13Sc7"
      }
    },
    {
      "cell_type": "code",
      "source": [
        "!pip install simple-colors"
      ],
      "metadata": {
        "id": "e0go_gJP5Ex6"
      },
      "execution_count": null,
      "outputs": []
    },
    {
      "cell_type": "code",
      "source": [
        "#normal text\n",
        "from simple_colors import *\n",
        "\n",
        "normal_text = \"Hello\"\n",
        "print(normal_text)"
      ],
      "metadata": {
        "id": "ql2qAoNh5JJb"
      },
      "execution_count": null,
      "outputs": []
    },
    {
      "cell_type": "code",
      "source": [
        "#set color\n",
        "from simple_colors import *\n",
        "\n",
        "normal_text = \"Hello\"\n",
        "print(red(normal_text))\n",
        "\n",
        "#Ex: red() funksiyasi so'zlarni qizil rangga o'zgartiradi."
      ],
      "metadata": {
        "id": "cYDevjWz5JY8"
      },
      "execution_count": null,
      "outputs": []
    },
    {
      "cell_type": "code",
      "source": [
        "#bold text\n",
        "from simple_colors import *\n",
        "\n",
        "normal_text = \"Hello\"\n",
        "print(normal_text, 'bold')"
      ],
      "metadata": {
        "id": "8IFCf0ka6M4D"
      },
      "execution_count": null,
      "outputs": []
    },
    {
      "cell_type": "code",
      "source": [
        "#bold text with green color\n",
        "from simple_colors import *\n",
        "\n",
        "normal_text = \"Hello\"\n",
        "print(green(normal_text, 'bold'))"
      ],
      "metadata": {
        "id": "IozvtZKC7I21"
      },
      "execution_count": null,
      "outputs": []
    },
    {
      "cell_type": "code",
      "source": [
        "#bold va underlined\n",
        "from simple_colors import *\n",
        "\n",
        "normal_text = \"Hello\"\n",
        "print(green(normal_text, ['bold', 'underlined']))\n",
        "\n",
        "#Agar text ni ham bold ham underlined qilmoqchi bo'lsak. ikkalasini list ga o'rash kerak.\n",
        "#Note: underlined ni ishlatish uchun rang berilishi shart!!!"
      ],
      "metadata": {
        "id": "I_4xlSBO7T2C"
      },
      "execution_count": null,
      "outputs": []
    },
    {
      "cell_type": "markdown",
      "source": [
        "Boshqa ranglar va boshqa style lar ham aynan shunday ko'rinishda kodlanadi.\n",
        "\n",
        "text ni o'zgartirish uchun boshqa metodlar ham bor. Lekin men ularni bu yerga qo'shmadim. Ammo, bu metodlarni yozib ketishim mumkin.\n",
        "\n",
        "\n",
        "\n",
        "\n",
        "\n",
        "*   ANSI Escape Sequence\n",
        "\n",
        "*   ' termocolor ' module\n",
        "*   ' colorma ' package\n",
        "\n",
        "\n",
        "*   ' prompt_toolkit ' package\n",
        "\n"
      ],
      "metadata": {
        "id": "K_0-H0xB93ep"
      }
    }
  ]
}